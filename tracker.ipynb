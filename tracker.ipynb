{
 "cells": [
  {
   "cell_type": "code",
   "execution_count": null,
   "id": "7d9d8b0f",
   "metadata": {},
   "outputs": [],
   "source": [
    "import os\n",
    "import pandas as pd\n",
    "import matplotlib.pyplot as plt\n",
    "import requests\n",
    "from datetime import datetime"
   ]
  },
  {
   "cell_type": "code",
   "execution_count": 6,
   "id": "dcac5e9e",
   "metadata": {},
   "outputs": [],
   "source": [
    "#Setting\n",
    "COIN = 'bitcoin'\n",
    "CURRENCY = 'inr'\n",
    "API_URL = f\"https://api.coingecko.com/api/v3/simple/price?ids={COIN}&vs_currencies={CURRENCY}\""
   ]
  },
  {
   "cell_type": "code",
   "execution_count": 8,
   "id": "dc04836c",
   "metadata": {},
   "outputs": [],
   "source": [
    "#Fetching the Data\n",
    "\n",
    "def fetch_data():\n",
    "    response = requests.get(API_URL) \n",
    "    data = response.json()\n",
    "\n",
    "    if COIN not in data:\n",
    "        raise Exception(\"❌ Couldn't fetch coin price.\")\n",
    "    \n",
    "    price = data[COIN][CURRENCY]\n",
    "    return {\n",
    "        \"coin\" : COIN,\n",
    "        \"price\" : price,\n",
    "        \"timestamp\" : datetime.now().strftime(\"%Y-%m-%d %H:%M:%S\")\n",
    "        \n",
    "    }"
   ]
  },
  {
   "cell_type": "code",
   "execution_count": null,
   "id": "5c86ba80",
   "metadata": {},
   "outputs": [],
   "source": [
    "#Saving to CSV\n",
    "\n",
    "def append_to_csv(record, filename = \"price-history.csv\"):\n",
    "    df = pd.DataFrame([record])\n",
    "    if not os.path.exists(filename):\n",
    "        df.to_csv(filename, index = False)\n",
    "    else:\n",
    "        df.to_csv(filename, mode='a', header=False, index = False)\n",
    "    print(\"✅ File Saved to Location\")\n"
   ]
  },
  {
   "cell_type": "code",
   "execution_count": null,
   "id": "f44752e0",
   "metadata": {},
   "outputs": [],
   "source": [
    "#Plotting\n",
    "\n",
    "def plot_price(filename = \"price-history.csv\"):\n",
    "    df = pd.read_csv(filename)\n",
    "    df['timestamp'] = pd.to_datetime(df['timestamp'])\n",
    "    last_10 = df.tail(10)\n",
    "\n",
    "    plt.figure(figsize=(10,8))\n",
    "    plt.plot(last_10['timestamp'], last_10['price'], color = 'green', marker ='o')\n",
    "    plt.title(f\"{COIN.capitalize()} Price Trend (in {CURRENCY.upper()})\")\n",
    "    plt.xlabel(\"Time\")\n",
    "    plt.ylabel(f\"Price ({CURRENCY.upper()})\")\n",
    "\n",
    "    os.makedirs('output', exist_ok=True)\n",
    "    plt.savefig(\"output/price_trend.png\")"
   ]
  },
  {
   "cell_type": "code",
   "execution_count": null,
   "id": "ad8f4e9a",
   "metadata": {},
   "outputs": [
    {
     "name": "stdout",
     "output_type": "stream",
     "text": [
      "'function' object is not subscriptable\n"
     ]
    }
   ],
   "source": [
    "if __name__ == \"__main__\":\n",
    "    try:\n",
    "        record = fetch_data()\n",
    "        print(f\"🪙 {record['coin'].capitalize()} - ₹ {record['price']}\")\n",
    "        append_to_csv(record)\n",
    "        plot_price()\n",
    "    except Exception as e:\n",
    "        print(str(e))\n"
   ]
  }
 ],
 "metadata": {
  "kernelspec": {
   "display_name": "Python 3",
   "language": "python",
   "name": "python3"
  },
  "language_info": {
   "codemirror_mode": {
    "name": "ipython",
    "version": 3
   },
   "file_extension": ".py",
   "mimetype": "text/x-python",
   "name": "python",
   "nbconvert_exporter": "python",
   "pygments_lexer": "ipython3",
   "version": "3.13.5"
  }
 },
 "nbformat": 4,
 "nbformat_minor": 5
}
